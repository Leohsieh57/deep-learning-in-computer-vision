{
 "cells": [
  {
   "cell_type": "code",
   "execution_count": 1,
   "metadata": {},
   "outputs": [],
   "source": [
    "import torch\n",
    "import torch.nn as nn\n",
    "import torch.optim as optim\n",
    "import torch.nn.functional as F\n",
    "import torchvision\n",
    "import torchvision.transforms as transforms\n",
    "from torch.utils.data import Dataset, DataLoader\n",
    "import glob\n",
    "import os\n",
    "import numpy as np\n",
    "from PIL import Image\n",
    "import torchvision.models as models\n",
    "import copy\n",
    "from torchvision.utils import save_image\n",
    "import PIL\n",
    "import skimage.io\n",
    "import copy\n",
    "from scipy import stats\n",
    "import multiprocessing as mp"
   ]
  },
  {
   "cell_type": "code",
   "execution_count": 2,
   "metadata": {},
   "outputs": [],
   "source": [
    "#customized class\n",
    "def fnToIndex(fn):\n",
    "    return int(fn.split('/')[-1].split('_')[0])\n",
    "\n",
    "def getImg(fn):\n",
    "    if fnToIndex(fn) % 100 == 1:\n",
    "        print(fn)\n",
    "    trans = transforms.ToTensor()\n",
    "    return trans(Image.open(fn)).numpy()\n",
    "\n",
    "def voteByNeighbor(mask, noiseLabels, coordinate):\n",
    "    i, j = coordinate\n",
    "    toClass = [6,4,3,0,7,2,1,5]\n",
    "    if mask[i][j] not in noiseLabels:\n",
    "        return toClass[mask[i][j]]\n",
    "    voteRange = 4\n",
    "    iMin, iMax = max(0, i-voteRange), min(512, i+voteRange+1)\n",
    "    jMin, jMax = max(0, j-voteRange), min(512, j+voteRange+1)\n",
    "    voteList = [mask[i][j] for i in range(iMin, iMax) for j in range(jMin, jMax) if mask[i][j] not in noiseLabels]\n",
    "    toClass = [6,4,3,0,7,2,1,5]\n",
    "    return toClass[stats.mode(voteList)[0][0]]\n",
    "    \n",
    "def getMask(fn):\n",
    "    mask = (skimage.io.imread(fn) >= 128).astype(int)\n",
    "    mask = 4*mask[:, :, 0] + 2*mask[:, :, 1] + mask[:, :, 2]\n",
    "    classCnt = np.zeros(8)\n",
    "    for i in range(512):\n",
    "        for j in range(512):\n",
    "            classCnt[mask[i][j]] += 1\n",
    "\n",
    "    noiseLabels = [i for i in range(8) if classCnt[i] < 20 and classCnt[i] > 0]\n",
    "    mask = [voteByNeighbor(mask,noiseLabels,(i,j)) for i in range(512) for j in range(512)]\n",
    "    return np.reshape(mask, (512,512))\n",
    "\n",
    "def getMaskTuple(args):\n",
    "    fnImg, fnMask = args\n",
    "    return getImg(fnImg), getMask(fnMask)\n",
    "    \n",
    "def loadDataSet(root):\n",
    "    print('loading data at',root)\n",
    "    pool = mp.Pool(mp.cpu_count())\n",
    "    fnImgList = sorted(glob.glob(os.path.join(root, '*.jpg')))\n",
    "    fnMaskList = sorted(glob.glob(os.path.join(root, '*.png')))\n",
    "    fnList = [(fnImgList[i], fnMaskList[i]) for i in range(len(fnImgList))]\n",
    "    results = pool.map(getMaskTuple, [(fnImg, fnMask) for fnImg, fnMask in fnList])\n",
    "    print('data loaded at',root)\n",
    "    return results"
   ]
  },
  {
   "cell_type": "code",
   "execution_count": 3,
   "metadata": {},
   "outputs": [
    {
     "name": "stdout",
     "output_type": "stream",
     "text": [
      "loading data at hw2_data/p2_data/train\n",
      "hw2_data/p2_data/train/0001_sat.jpg\n",
      "hw2_data/p2_data/train/0301_sat.jpg\n",
      "hw2_data/p2_data/train/0101_sat.jpg\n",
      "hw2_data/p2_data/train/0401_sat.jpg\n",
      "hw2_data/p2_data/train/0201_sat.jpg\n",
      "hw2_data/p2_data/train/0501_sat.jpg\n",
      "hw2_data/p2_data/train/0801_sat.jpg\n",
      "hw2_data/p2_data/train/0601_sat.jpg\n",
      "hw2_data/p2_data/train/0901_sat.jpg\n",
      "hw2_data/p2_data/train/0701_sat.jpg\n",
      "hw2_data/p2_data/train/1001_sat.jpg\n",
      "hw2_data/p2_data/train/1101_sat.jpg\n",
      "hw2_data/p2_data/train/1401_sat.jpg\n",
      "hw2_data/p2_data/train/1201_sat.jpg\n",
      "hw2_data/p2_data/train/1501_sat.jpg\n",
      "hw2_data/p2_data/train/1301_sat.jpg\n",
      "hw2_data/p2_data/train/1601_sat.jpg\n",
      "hw2_data/p2_data/train/1901_sat.jpg\n",
      "hw2_data/p2_data/train/1701_sat.jpg\n",
      "hw2_data/p2_data/train/1801_sat.jpg\n",
      "data loaded at hw2_data/p2_data/train\n",
      "loading data at hw2_data/p2_data/validation\n",
      "hw2_data/p2_data/validation/0001_sat.jpg\n",
      "hw2_data/p2_data/validation/0101_sat.jpg\n",
      "hw2_data/p2_data/validation/0201_sat.jpg\n",
      "data loaded at hw2_data/p2_data/validation\n"
     ]
    }
   ],
   "source": [
    "#the longest journey\n",
    "trainSet = loadDataSet('hw2_data/p2_data/train')\n",
    "testSet = loadDataSet('hw2_data/p2_data/validation')"
   ]
  },
  {
   "cell_type": "code",
   "execution_count": 4,
   "metadata": {},
   "outputs": [
    {
     "name": "stdout",
     "output_type": "stream",
     "text": [
      "1763 ['green', 'deep blue', 'black']\n",
      "808 ['yellow', 'green']\n",
      "1864 ['sky blue', 'yellow', 'pink', 'green']\n",
      "1781 ['sky blue', 'yellow', 'pink']\n",
      "238 ['yellow', 'pink', 'deep blue', 'white']\n"
     ]
    }
   ],
   "source": [
    "def randomCheckData(train_set, checkCnt):\n",
    "    arr = np.arange(2000)\n",
    "    np.random.shuffle(arr)\n",
    "    toColor = ['sky blue','yellow','pink','green','deep blue','white','black']\n",
    "    for index in arr[:checkCnt]:\n",
    "        img, mask = trainSet[index]\n",
    "        classCnt = np.zeros(8)\n",
    "        for i in range(512):\n",
    "            for j in range(512):\n",
    "                classCnt[mask[i][j]] += 1\n",
    "        existingLabels = [i for i in range(8) if classCnt[i]]\n",
    "        colorList = [toColor[label] for label in existingLabels]\n",
    "        print(index, colorList)\n",
    "        \n",
    "def saveDataSet(root,dataSet):\n",
    "    for i, (img, mask) in enumerate(dataSet):\n",
    "        np.save(root+\"/img_\"+str(i)+\".npy\", img)\n",
    "        np.save(root+\"/mask_\"+str(i)+\".npy\", mask)\n",
    "    print('data saving completed at',root)\n",
    "    \n",
    "randomCheckData(trainSet, 5)"
   ]
  },
  {
   "cell_type": "code",
   "execution_count": 5,
   "metadata": {},
   "outputs": [
    {
     "name": "stdout",
     "output_type": "stream",
     "text": [
      "data saving completed at hw2_data/p2_data/train_npy\n",
      "data saving completed at hw2_data/p2_data/validation_npy\n"
     ]
    }
   ],
   "source": [
    "saveDataSet('hw2_data/p2_data/train_npy',trainSet)\n",
    "saveDataSet('hw2_data/p2_data/validation_npy',testSet)"
   ]
  }
 ],
 "metadata": {
  "kernelspec": {
   "display_name": "Python 3",
   "language": "python",
   "name": "python3"
  },
  "language_info": {
   "codemirror_mode": {
    "name": "ipython",
    "version": 3
   },
   "file_extension": ".py",
   "mimetype": "text/x-python",
   "name": "python",
   "nbconvert_exporter": "python",
   "pygments_lexer": "ipython3",
   "version": "3.8.6"
  }
 },
 "nbformat": 4,
 "nbformat_minor": 4
}
