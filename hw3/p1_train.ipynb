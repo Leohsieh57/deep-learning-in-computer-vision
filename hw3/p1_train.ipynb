{
 "cells": [
  {
   "cell_type": "code",
   "execution_count": 1,
   "metadata": {},
   "outputs": [],
   "source": [
    "import torch\n",
    "import torch.nn as nn\n",
    "import torch.optim as optim\n",
    "import torch.nn.functional as F\n",
    "import torchvision\n",
    "import torchvision.transforms as transforms\n",
    "from torch.utils.data import Dataset, DataLoader\n",
    "import glob\n",
    "import os\n",
    "import numpy as np\n",
    "from PIL import Image\n",
    "import torchvision.models as models\n",
    "import copy\n",
    "from torchvision.utils import save_image\n",
    "import PIL\n",
    "from torch.autograd import Variable\n",
    "from models import VAE, loss_function\n",
    "import training_helper as th"
   ]
  },
  {
   "cell_type": "code",
   "execution_count": 2,
   "metadata": {},
   "outputs": [
    {
     "name": "stdout",
     "output_type": "stream",
     "text": [
      "Device used: cuda:1\n"
     ]
    }
   ],
   "source": [
    "#preperations\n",
    "trainset = th.imgData(root='hw3_data/p1_npy')\n",
    "trainset_loader = DataLoader(trainset, batch_size=4096, shuffle=True, num_workers=0)\n",
    "\n",
    "device = th.getCudaDevice(cudaNum = 1, torchSeed = 123)"
   ]
  },
  {
   "cell_type": "code",
   "execution_count": null,
   "metadata": {},
   "outputs": [
    {
     "name": "stdout",
     "output_type": "stream",
     "text": [
      "model loaded from p1_latest.pth\n",
      "Epoch: 72\n",
      "training Recon Loss: 0.013441899236043294\n",
      "training KLD_loss: 50.888805859375\n",
      "\n",
      "model saved to p1_latest.pth\n",
      "Epoch: 73\n",
      "training Recon Loss: 0.013415748596191407\n",
      "training KLD_loss: 50.820047265625\n",
      "\n",
      "model saved to p1_latest.pth\n",
      "Epoch: 74\n",
      "training Recon Loss: 0.013394348780314128\n",
      "training KLD_loss: 50.866767578125\n",
      "\n",
      "model saved to p1_latest.pth\n",
      "Epoch: 75\n"
     ]
    }
   ],
   "source": [
    "# training\n",
    "latent_size = 100\n",
    "\n",
    "with torch.no_grad():\n",
    "    rand_variable = Variable(torch.randn(32,latent_size)).to(device)\n",
    "\n",
    "model = VAE(latent_size, device)\n",
    "model.to(device)\n",
    "optimizer = optim.Adam(model.parameters(), lr=0.001)\n",
    "\n",
    "# since the cuda draws segmentation error in random eps with unknown reasons, \n",
    "#i complete the training by executing the code repeatively \n",
    "th.loadModel('p1_latest.pth', model, optimizer)\n",
    "\n",
    "model.train()\n",
    "\n",
    "train_MSE = np.load(\"hw3_data/p1_plot_npy/train_MSE.npy\").tolist()\n",
    "train_KLD = np.load(\"hw3_data/p1_plot_npy/train_KLD.npy\").tolist()\n",
    "\n",
    "while len(train_MSE) < 200:\n",
    "    print('Epoch:',len(train_MSE))\n",
    "    MSE_loss, KLD_loss = 0.0, 0.0\n",
    "    for batch_idx, data in enumerate(trainset_loader):\n",
    "        data = data.to(device)\n",
    "        data = Variable(data)\n",
    "        optimizer.zero_grad()\n",
    "        recon_batch, mu, logvar = model(data)\n",
    "        loss, KLD, MSE = loss_function(recon_batch, data, mu, logvar)\n",
    "        loss.backward()\n",
    "        optimizer.step()\n",
    "        MSE_loss += float(MSE.data)\n",
    "        KLD_loss += float(KLD.data)\n",
    "    \n",
    "    print(\"training Recon Loss:\",MSE_loss/(12288*len(trainset)))\n",
    "    print(\"training KLD_loss:\", KLD_loss/len(trainset))\n",
    "    print('')\n",
    "    train_MSE.append(MSE_loss/(12288*len(trainset)))\n",
    "    train_KLD.append(KLD_loss/len(trainset))\n",
    "    th.saveModel('p1_latest.pth',model,optimizer)\n",
    "    np.save(\"hw3_data/p1_plot_npy/train_MSE.npy\", train_MSE)\n",
    "    np.save(\"hw3_data/p1_plot_npy/train_KLD.npy\", train_KLD)"
   ]
  },
  {
   "cell_type": "code",
   "execution_count": null,
   "metadata": {},
   "outputs": [],
   "source": []
  }
 ],
 "metadata": {
  "kernelspec": {
   "display_name": "Python 3",
   "language": "python",
   "name": "python3"
  },
  "language_info": {
   "codemirror_mode": {
    "name": "ipython",
    "version": 3
   },
   "file_extension": ".py",
   "mimetype": "text/x-python",
   "name": "python",
   "nbconvert_exporter": "python",
   "pygments_lexer": "ipython3",
   "version": "3.8.6"
  }
 },
 "nbformat": 4,
 "nbformat_minor": 4
}
